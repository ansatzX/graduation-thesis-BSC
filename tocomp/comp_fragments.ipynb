{
 "cells": [
  {
   "cell_type": "code",
   "execution_count": 15,
   "id": "fed0271f-f936-4545-9906-794bb1ce8c27",
   "metadata": {},
   "outputs": [],
   "source": [
    "import pandas as pd \n",
    "import numpy as np \n",
    "import os\n",
    "from rdkit import Chem\n",
    "from rdkit.Chem import AllChem\n",
    "from multiprocessing import Pool"
   ]
  },
  {
   "cell_type": "code",
   "execution_count": 10,
   "id": "8c806da6-f1ca-4fe8-9f00-8c53dff0f44c",
   "metadata": {},
   "outputs": [],
   "source": [
    "rawdata = pd.read_csv(\"frag_dup.csv\")\n",
    "data= rawdata.to_numpy()\n",
    "smis = data[:,0]"
   ]
  },
  {
   "cell_type": "code",
   "execution_count": 11,
   "id": "863c63a0-117d-4f2a-bcd3-3eebd6c7854e",
   "metadata": {},
   "outputs": [],
   "source": [
    "def conf_gen(smi, conf_number, smi_charge):\n",
    "    m = Chem.MolFromSmiles(smi)\n",
    "    m = Chem.AddHs(m)\n",
    "    #print(smi)\n",
    "    params = AllChem.ETKDGv3()\n",
    "    cids = AllChem.EmbedMultipleConfs(m, numConfs = 100 , params = params)\n",
    "    res = AllChem.MMFFOptimizeMoleculeConfs(m,numThreads=40,mmffVariant=\"MMFF94\")\n",
    "      \n",
    "    #a =[]\n",
    "    #for atom in m.GetAtoms():\n",
    "    #     a.append(atom.GetAtomicNum())\n",
    "    #numbers = np.asarray(a) \n",
    "    \n",
    "    energy_low = min(res)\n",
    "    label = res.index(energy_low)\n",
    "\n",
    "    conf_mol = Chem.MolToXYZBlock(m,confId=label) \n",
    "    return conf_mol"
   ]
  },
  {
   "cell_type": "code",
   "execution_count": 16,
   "id": "d97bcc71-2300-41a8-9b01-b701be2052a5",
   "metadata": {},
   "outputs": [
    {
     "data": {
      "text/plain": [
       "206797"
      ]
     },
     "execution_count": 16,
     "metadata": {},
     "output_type": "execute_result"
    }
   ],
   "source": [
    "len(smis)\n"
   ]
  },
  {
   "cell_type": "code",
   "execution_count": 36,
   "id": "1ed14850-919f-454b-977c-76d5c04266c7",
   "metadata": {},
   "outputs": [],
   "source": [
    "\n",
    "def genxyz(start,end):\n",
    "    print(\"gen\",start,end)\n",
    "    for inf in range(start,end): \n",
    "        if len(str(inf)) == 1:\n",
    "            num = '00000' + str(inf) \n",
    "        elif len(str(inf)) == 2:\n",
    "            num = '0000' + str(inf) \n",
    "        elif len(str(inf)) == 3:\n",
    "            num = '000' + str(inf) \n",
    "        elif len(str(inf)) == 4:\n",
    "            num = '00' + str(inf) \n",
    "        elif len(str(inf)) == 5:\n",
    "            num = '0' + str(inf) \n",
    "        elif len(str(inf)) == 6:\n",
    "            num =  str(inf) \n",
    "        fileName = 'fragment_pos_dup'+ '_'+ num + '.xyz'\n",
    "        try : \n",
    "            mol_info = conf_gen(smi=smis[inf], conf_number=400, smi_charge=1)\n",
    "\n",
    "            f = open(fileName, 'w')\n",
    "            f.write(mol_info)\n",
    "            f.close()\n",
    "            os.system(\"mv %s fragment_pos_dup_xyz\"% fileName)  \n",
    "        except :\n",
    "            f = open(wrong_frag_pos_smi, 'a+')\n",
    "            f.write(inf)\n",
    "            f.write(\"\\n\")\n",
    "            f.close()\n"
   ]
  },
  {
   "cell_type": "code",
   "execution_count": 21,
   "id": "02375b3a-48da-4869-a0e0-9959f0062dbe",
   "metadata": {},
   "outputs": [],
   "source": [
    "start = []\n",
    "for inf in range(103):\n",
    "    start.append(inf*2000)\n",
    "    \n",
    "end = []\n",
    "for inf in range(103):\n",
    "    end.append(inf*2000+2000)"
   ]
  },
  {
   "cell_type": "code",
   "execution_count": null,
   "id": "64b8d685-56c1-4036-b17c-0f1f71ab9085",
   "metadata": {},
   "outputs": [],
   "source": [
    "#end"
   ]
  },
  {
   "cell_type": "code",
   "execution_count": 25,
   "id": "648b547c-3511-4e06-9c67-956e8f61e0a0",
   "metadata": {},
   "outputs": [],
   "source": [
    "start.append(206000)\n",
    "end.append(206797)"
   ]
  },
  {
   "cell_type": "code",
   "execution_count": null,
   "id": "d42609dc-febe-4810-932f-1e06a1ef13b5",
   "metadata": {},
   "outputs": [],
   "source": [
    "#end"
   ]
  },
  {
   "cell_type": "code",
   "execution_count": 29,
   "id": "3e67659f-2da1-4e55-b769-9edae0f53701",
   "metadata": {},
   "outputs": [],
   "source": [
    "p = Pool(28)"
   ]
  },
  {
   "cell_type": "code",
   "execution_count": 37,
   "id": "b95b2ca2-62fb-464b-aec6-ce50adaec790",
   "metadata": {},
   "outputs": [],
   "source": [
    "#genxyz(0,2000)"
   ]
  },
  {
   "cell_type": "code",
   "execution_count": null,
   "id": "aaeb21dd-4593-4e95-abb9-c14c006ec712",
   "metadata": {},
   "outputs": [],
   "source": [
    "\n",
    "for i in range(104):\n",
    "    p.apply_async(genxyz,args=(start[i],end[i],))\n",
    "print(\"waiting for all subprocesses done\")\n",
    "p.close()\n",
    "p.join()\n",
    "print(\"All subprocess done\")"
   ]
  }
 ],
 "metadata": {
  "kernelspec": {
   "display_name": "Python 3 (ipykernel)",
   "language": "python",
   "name": "python3"
  },
  "language_info": {
   "codemirror_mode": {
    "name": "ipython",
    "version": 3
   },
   "file_extension": ".py",
   "mimetype": "text/x-python",
   "name": "python",
   "nbconvert_exporter": "python",
   "pygments_lexer": "ipython3",
   "version": "3.7.11"
  }
 },
 "nbformat": 4,
 "nbformat_minor": 5
}
